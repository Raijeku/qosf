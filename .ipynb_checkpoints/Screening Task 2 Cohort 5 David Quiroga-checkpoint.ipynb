{
 "cells": [
  {
   "cell_type": "code",
   "execution_count": 59,
   "id": "b627f586",
   "metadata": {},
   "outputs": [],
   "source": [
    "import numpy as np\n",
    "import pandas as pd\n",
    "\n",
    "from qiskit import Aer, QuantumCircuit\n",
    "from qiskit.circuit import Parameter, ParameterVector\n",
    "from qiskit.circuit.library import RealAmplitudes, ZZFeatureMap, PauliFeatureMap, ZFeatureMap\n",
    "from qiskit.opflow import StateFn, PauliSumOp, AerPauliExpectation, ListOp, Gradient\n",
    "from qiskit.utils import QuantumInstance\n",
    "from qiskit_machine_learning.neural_networks import CircuitQNN\n",
    "from qiskit_machine_learning.circuit.library import RawFeatureVector\n",
    "from qiskit.algorithms.optimizers import COBYLA\n",
    "from qiskit_machine_learning.algorithms.classifiers import NeuralNetworkClassifier, VQC\n",
    "import matplotlib.pyplot as plt\n",
    "from IPython.display import clear_output"
   ]
  },
  {
   "cell_type": "code",
   "execution_count": 2,
   "id": "c7a5aa41",
   "metadata": {},
   "outputs": [],
   "source": [
    "# set method to calculcate expected values\n",
    "expval = AerPauliExpectation()\n",
    "\n",
    "# define gradient method\n",
    "gradient = Gradient()\n",
    "\n",
    "# define quantum instances (statevector and sample based)\n",
    "qi_sv = QuantumInstance(Aer.get_backend('aer_simulator_statevector'))\n",
    "\n",
    "# we set shots to 500 as this will determine the number of samples later on.\n",
    "qi_qasm = QuantumInstance(Aer.get_backend('aer_simulator'), shots=1024)\n",
    "\n",
    "num_qubits = 2"
   ]
  },
  {
   "cell_type": "code",
   "execution_count": 9,
   "id": "4f799865",
   "metadata": {},
   "outputs": [
    {
     "data": {
      "text/html": [
       "<div>\n",
       "<style scoped>\n",
       "    .dataframe tbody tr th:only-of-type {\n",
       "        vertical-align: middle;\n",
       "    }\n",
       "\n",
       "    .dataframe tbody tr th {\n",
       "        vertical-align: top;\n",
       "    }\n",
       "\n",
       "    .dataframe thead th {\n",
       "        text-align: right;\n",
       "    }\n",
       "</style>\n",
       "<table border=\"1\" class=\"dataframe\">\n",
       "  <thead>\n",
       "    <tr style=\"text-align: right;\">\n",
       "      <th></th>\n",
       "      <th>0</th>\n",
       "      <th>1</th>\n",
       "      <th>2</th>\n",
       "      <th>3</th>\n",
       "      <th>4</th>\n",
       "    </tr>\n",
       "  </thead>\n",
       "  <tbody>\n",
       "    <tr>\n",
       "      <th>0</th>\n",
       "      <td>2789.26</td>\n",
       "      <td>1000.0</td>\n",
       "      <td>10.0</td>\n",
       "      <td>20.0</td>\n",
       "      <td>0.0</td>\n",
       "    </tr>\n",
       "    <tr>\n",
       "      <th>1</th>\n",
       "      <td>4040.01</td>\n",
       "      <td>1000000.0</td>\n",
       "      <td>1.0</td>\n",
       "      <td>1.0</td>\n",
       "      <td>1.0</td>\n",
       "    </tr>\n",
       "    <tr>\n",
       "      <th>2</th>\n",
       "      <td>2931.20</td>\n",
       "      <td>10000.0</td>\n",
       "      <td>10000.0</td>\n",
       "      <td>40.0</td>\n",
       "      <td>1.0</td>\n",
       "    </tr>\n",
       "    <tr>\n",
       "      <th>3</th>\n",
       "      <td>3896.54</td>\n",
       "      <td>10000.0</td>\n",
       "      <td>100000.0</td>\n",
       "      <td>30.0</td>\n",
       "      <td>1.0</td>\n",
       "    </tr>\n",
       "    <tr>\n",
       "      <th>4</th>\n",
       "      <td>982.06</td>\n",
       "      <td>100.0</td>\n",
       "      <td>1000.0</td>\n",
       "      <td>75.0</td>\n",
       "      <td>0.0</td>\n",
       "    </tr>\n",
       "    <tr>\n",
       "      <th>...</th>\n",
       "      <td>...</td>\n",
       "      <td>...</td>\n",
       "      <td>...</td>\n",
       "      <td>...</td>\n",
       "      <td>...</td>\n",
       "    </tr>\n",
       "    <tr>\n",
       "      <th>295</th>\n",
       "      <td>1464.52</td>\n",
       "      <td>1000000.0</td>\n",
       "      <td>10000.0</td>\n",
       "      <td>45.0</td>\n",
       "      <td>1.0</td>\n",
       "    </tr>\n",
       "    <tr>\n",
       "      <th>296</th>\n",
       "      <td>3493.66</td>\n",
       "      <td>1000000.0</td>\n",
       "      <td>100000.0</td>\n",
       "      <td>85.0</td>\n",
       "      <td>1.0</td>\n",
       "    </tr>\n",
       "    <tr>\n",
       "      <th>297</th>\n",
       "      <td>4182.81</td>\n",
       "      <td>1.0</td>\n",
       "      <td>1.0</td>\n",
       "      <td>65.0</td>\n",
       "      <td>0.0</td>\n",
       "    </tr>\n",
       "    <tr>\n",
       "      <th>298</th>\n",
       "      <td>3113.75</td>\n",
       "      <td>10000.0</td>\n",
       "      <td>100.0</td>\n",
       "      <td>1.0</td>\n",
       "      <td>1.0</td>\n",
       "    </tr>\n",
       "    <tr>\n",
       "      <th>299</th>\n",
       "      <td>4567.57</td>\n",
       "      <td>10000.0</td>\n",
       "      <td>100000.0</td>\n",
       "      <td>90.0</td>\n",
       "      <td>1.0</td>\n",
       "    </tr>\n",
       "  </tbody>\n",
       "</table>\n",
       "<p>300 rows × 5 columns</p>\n",
       "</div>"
      ],
      "text/plain": [
       "           0          1         2     3    4\n",
       "0    2789.26     1000.0      10.0  20.0  0.0\n",
       "1    4040.01  1000000.0       1.0   1.0  1.0\n",
       "2    2931.20    10000.0   10000.0  40.0  1.0\n",
       "3    3896.54    10000.0  100000.0  30.0  1.0\n",
       "4     982.06      100.0    1000.0  75.0  0.0\n",
       "..       ...        ...       ...   ...  ...\n",
       "295  1464.52  1000000.0   10000.0  45.0  1.0\n",
       "296  3493.66  1000000.0  100000.0  85.0  1.0\n",
       "297  4182.81        1.0       1.0  65.0  0.0\n",
       "298  3113.75    10000.0     100.0   1.0  1.0\n",
       "299  4567.57    10000.0  100000.0  90.0  1.0\n",
       "\n",
       "[300 rows x 5 columns]"
      ]
     },
     "execution_count": 9,
     "metadata": {},
     "output_type": "execute_result"
    }
   ],
   "source": [
    "data_train = pd.read_csv('mock_train_set.csv')\n",
    "data_train"
   ]
  },
  {
   "cell_type": "code",
   "execution_count": 10,
   "id": "2f96abbb",
   "metadata": {},
   "outputs": [
    {
     "data": {
      "text/plain": [
       "array([[2.78926e+03, 1.00000e+03, 1.00000e+01, 2.00000e+01],\n",
       "       [4.04001e+03, 1.00000e+06, 1.00000e+00, 1.00000e+00],\n",
       "       [2.93120e+03, 1.00000e+04, 1.00000e+04, 4.00000e+01],\n",
       "       ...,\n",
       "       [4.18281e+03, 1.00000e+00, 1.00000e+00, 6.50000e+01],\n",
       "       [3.11375e+03, 1.00000e+04, 1.00000e+02, 1.00000e+00],\n",
       "       [4.56757e+03, 1.00000e+04, 1.00000e+05, 9.00000e+01]])"
      ]
     },
     "execution_count": 10,
     "metadata": {},
     "output_type": "execute_result"
    }
   ],
   "source": [
    "X_train = data_train[['0','1','2','3']].to_numpy()\n",
    "y_train = data_train[['4']].to_numpy()\n",
    "X_train"
   ]
  },
  {
   "cell_type": "code",
   "execution_count": 11,
   "id": "7801a29a",
   "metadata": {},
   "outputs": [
    {
     "data": {
      "text/plain": [
       "array([[0.],\n",
       "       [1.],\n",
       "       [1.],\n",
       "       [1.],\n",
       "       [0.],\n",
       "       [0.],\n",
       "       [1.],\n",
       "       [0.],\n",
       "       [1.],\n",
       "       [0.],\n",
       "       [1.],\n",
       "       [0.],\n",
       "       [0.],\n",
       "       [0.],\n",
       "       [0.],\n",
       "       [0.],\n",
       "       [1.],\n",
       "       [0.],\n",
       "       [0.],\n",
       "       [0.],\n",
       "       [1.],\n",
       "       [1.],\n",
       "       [1.],\n",
       "       [1.],\n",
       "       [0.],\n",
       "       [1.],\n",
       "       [0.],\n",
       "       [0.],\n",
       "       [1.],\n",
       "       [0.],\n",
       "       [0.],\n",
       "       [0.],\n",
       "       [1.],\n",
       "       [1.],\n",
       "       [0.],\n",
       "       [0.],\n",
       "       [0.],\n",
       "       [1.],\n",
       "       [0.],\n",
       "       [1.],\n",
       "       [1.],\n",
       "       [0.],\n",
       "       [1.],\n",
       "       [0.],\n",
       "       [0.],\n",
       "       [0.],\n",
       "       [1.],\n",
       "       [0.],\n",
       "       [1.],\n",
       "       [1.],\n",
       "       [0.],\n",
       "       [1.],\n",
       "       [0.],\n",
       "       [1.],\n",
       "       [0.],\n",
       "       [0.],\n",
       "       [1.],\n",
       "       [0.],\n",
       "       [0.],\n",
       "       [1.],\n",
       "       [0.],\n",
       "       [1.],\n",
       "       [1.],\n",
       "       [1.],\n",
       "       [0.],\n",
       "       [0.],\n",
       "       [0.],\n",
       "       [1.],\n",
       "       [0.],\n",
       "       [1.],\n",
       "       [0.],\n",
       "       [1.],\n",
       "       [0.],\n",
       "       [0.],\n",
       "       [1.],\n",
       "       [0.],\n",
       "       [0.],\n",
       "       [1.],\n",
       "       [1.],\n",
       "       [1.],\n",
       "       [1.],\n",
       "       [0.],\n",
       "       [1.],\n",
       "       [1.],\n",
       "       [0.],\n",
       "       [0.],\n",
       "       [0.],\n",
       "       [0.],\n",
       "       [0.],\n",
       "       [1.],\n",
       "       [1.],\n",
       "       [1.],\n",
       "       [0.],\n",
       "       [0.],\n",
       "       [0.],\n",
       "       [0.],\n",
       "       [1.],\n",
       "       [0.],\n",
       "       [1.],\n",
       "       [1.],\n",
       "       [0.],\n",
       "       [1.],\n",
       "       [1.],\n",
       "       [1.],\n",
       "       [1.],\n",
       "       [1.],\n",
       "       [0.],\n",
       "       [1.],\n",
       "       [1.],\n",
       "       [0.],\n",
       "       [1.],\n",
       "       [0.],\n",
       "       [0.],\n",
       "       [1.],\n",
       "       [1.],\n",
       "       [0.],\n",
       "       [0.],\n",
       "       [0.],\n",
       "       [0.],\n",
       "       [0.],\n",
       "       [0.],\n",
       "       [1.],\n",
       "       [0.],\n",
       "       [0.],\n",
       "       [1.],\n",
       "       [1.],\n",
       "       [0.],\n",
       "       [1.],\n",
       "       [0.],\n",
       "       [0.],\n",
       "       [0.],\n",
       "       [1.],\n",
       "       [0.],\n",
       "       [0.],\n",
       "       [1.],\n",
       "       [1.],\n",
       "       [0.],\n",
       "       [1.],\n",
       "       [0.],\n",
       "       [1.],\n",
       "       [1.],\n",
       "       [0.],\n",
       "       [1.],\n",
       "       [0.],\n",
       "       [0.],\n",
       "       [1.],\n",
       "       [0.],\n",
       "       [1.],\n",
       "       [1.],\n",
       "       [1.],\n",
       "       [1.],\n",
       "       [0.],\n",
       "       [1.],\n",
       "       [1.],\n",
       "       [0.],\n",
       "       [1.],\n",
       "       [0.],\n",
       "       [0.],\n",
       "       [1.],\n",
       "       [1.],\n",
       "       [1.],\n",
       "       [0.],\n",
       "       [1.],\n",
       "       [0.],\n",
       "       [1.],\n",
       "       [1.],\n",
       "       [0.],\n",
       "       [0.],\n",
       "       [0.],\n",
       "       [0.],\n",
       "       [0.],\n",
       "       [1.],\n",
       "       [1.],\n",
       "       [1.],\n",
       "       [0.],\n",
       "       [1.],\n",
       "       [0.],\n",
       "       [0.],\n",
       "       [1.],\n",
       "       [0.],\n",
       "       [1.],\n",
       "       [1.],\n",
       "       [1.],\n",
       "       [0.],\n",
       "       [1.],\n",
       "       [0.],\n",
       "       [0.],\n",
       "       [1.],\n",
       "       [1.],\n",
       "       [1.],\n",
       "       [1.],\n",
       "       [0.],\n",
       "       [0.],\n",
       "       [1.],\n",
       "       [1.],\n",
       "       [0.],\n",
       "       [1.],\n",
       "       [0.],\n",
       "       [0.],\n",
       "       [0.],\n",
       "       [1.],\n",
       "       [0.],\n",
       "       [0.],\n",
       "       [1.],\n",
       "       [1.],\n",
       "       [1.],\n",
       "       [1.],\n",
       "       [0.],\n",
       "       [0.],\n",
       "       [0.],\n",
       "       [0.],\n",
       "       [0.],\n",
       "       [0.],\n",
       "       [0.],\n",
       "       [0.],\n",
       "       [1.],\n",
       "       [0.],\n",
       "       [1.],\n",
       "       [1.],\n",
       "       [0.],\n",
       "       [0.],\n",
       "       [1.],\n",
       "       [0.],\n",
       "       [1.],\n",
       "       [0.],\n",
       "       [0.],\n",
       "       [1.],\n",
       "       [0.],\n",
       "       [1.],\n",
       "       [0.],\n",
       "       [0.],\n",
       "       [0.],\n",
       "       [1.],\n",
       "       [0.],\n",
       "       [1.],\n",
       "       [0.],\n",
       "       [1.],\n",
       "       [1.],\n",
       "       [0.],\n",
       "       [0.],\n",
       "       [0.],\n",
       "       [0.],\n",
       "       [0.],\n",
       "       [0.],\n",
       "       [0.],\n",
       "       [0.],\n",
       "       [0.],\n",
       "       [1.],\n",
       "       [0.],\n",
       "       [1.],\n",
       "       [0.],\n",
       "       [1.],\n",
       "       [0.],\n",
       "       [0.],\n",
       "       [1.],\n",
       "       [0.],\n",
       "       [1.],\n",
       "       [1.],\n",
       "       [1.],\n",
       "       [1.],\n",
       "       [1.],\n",
       "       [1.],\n",
       "       [0.],\n",
       "       [0.],\n",
       "       [1.],\n",
       "       [1.],\n",
       "       [0.],\n",
       "       [0.],\n",
       "       [0.],\n",
       "       [0.],\n",
       "       [1.],\n",
       "       [0.],\n",
       "       [1.],\n",
       "       [0.],\n",
       "       [1.],\n",
       "       [1.],\n",
       "       [1.],\n",
       "       [1.],\n",
       "       [1.],\n",
       "       [0.],\n",
       "       [1.],\n",
       "       [1.],\n",
       "       [0.],\n",
       "       [1.],\n",
       "       [0.],\n",
       "       [0.],\n",
       "       [0.],\n",
       "       [1.],\n",
       "       [1.],\n",
       "       [0.],\n",
       "       [1.],\n",
       "       [1.],\n",
       "       [0.],\n",
       "       [1.],\n",
       "       [0.],\n",
       "       [1.],\n",
       "       [1.],\n",
       "       [0.],\n",
       "       [1.],\n",
       "       [1.]])"
      ]
     },
     "execution_count": 11,
     "metadata": {},
     "output_type": "execute_result"
    }
   ],
   "source": [
    "y_train"
   ]
  },
  {
   "cell_type": "code",
   "execution_count": 12,
   "id": "a1a9ea07",
   "metadata": {},
   "outputs": [
    {
     "data": {
      "text/html": [
       "<div>\n",
       "<style scoped>\n",
       "    .dataframe tbody tr th:only-of-type {\n",
       "        vertical-align: middle;\n",
       "    }\n",
       "\n",
       "    .dataframe tbody tr th {\n",
       "        vertical-align: top;\n",
       "    }\n",
       "\n",
       "    .dataframe thead th {\n",
       "        text-align: right;\n",
       "    }\n",
       "</style>\n",
       "<table border=\"1\" class=\"dataframe\">\n",
       "  <thead>\n",
       "    <tr style=\"text-align: right;\">\n",
       "      <th></th>\n",
       "      <th>0</th>\n",
       "      <th>1</th>\n",
       "      <th>2</th>\n",
       "      <th>3</th>\n",
       "      <th>4</th>\n",
       "    </tr>\n",
       "  </thead>\n",
       "  <tbody>\n",
       "    <tr>\n",
       "      <th>0</th>\n",
       "      <td>2988.55</td>\n",
       "      <td>10000.0</td>\n",
       "      <td>10000.0</td>\n",
       "      <td>75.0</td>\n",
       "      <td>1.0</td>\n",
       "    </tr>\n",
       "    <tr>\n",
       "      <th>1</th>\n",
       "      <td>3413.80</td>\n",
       "      <td>1.0</td>\n",
       "      <td>100.0</td>\n",
       "      <td>90.0</td>\n",
       "      <td>0.0</td>\n",
       "    </tr>\n",
       "    <tr>\n",
       "      <th>2</th>\n",
       "      <td>3891.52</td>\n",
       "      <td>1.0</td>\n",
       "      <td>1.0</td>\n",
       "      <td>5.0</td>\n",
       "      <td>0.0</td>\n",
       "    </tr>\n",
       "    <tr>\n",
       "      <th>3</th>\n",
       "      <td>4514.99</td>\n",
       "      <td>10000.0</td>\n",
       "      <td>1000000.0</td>\n",
       "      <td>25.0</td>\n",
       "      <td>1.0</td>\n",
       "    </tr>\n",
       "    <tr>\n",
       "      <th>4</th>\n",
       "      <td>752.29</td>\n",
       "      <td>10.0</td>\n",
       "      <td>10.0</td>\n",
       "      <td>90.0</td>\n",
       "      <td>0.0</td>\n",
       "    </tr>\n",
       "    <tr>\n",
       "      <th>...</th>\n",
       "      <td>...</td>\n",
       "      <td>...</td>\n",
       "      <td>...</td>\n",
       "      <td>...</td>\n",
       "      <td>...</td>\n",
       "    </tr>\n",
       "    <tr>\n",
       "      <th>115</th>\n",
       "      <td>3155.94</td>\n",
       "      <td>10000.0</td>\n",
       "      <td>10000.0</td>\n",
       "      <td>35.0</td>\n",
       "      <td>1.0</td>\n",
       "    </tr>\n",
       "    <tr>\n",
       "      <th>116</th>\n",
       "      <td>2795.04</td>\n",
       "      <td>1.0</td>\n",
       "      <td>10.0</td>\n",
       "      <td>45.0</td>\n",
       "      <td>0.0</td>\n",
       "    </tr>\n",
       "    <tr>\n",
       "      <th>117</th>\n",
       "      <td>3702.48</td>\n",
       "      <td>1.0</td>\n",
       "      <td>1.0</td>\n",
       "      <td>20.0</td>\n",
       "      <td>0.0</td>\n",
       "    </tr>\n",
       "    <tr>\n",
       "      <th>118</th>\n",
       "      <td>2790.57</td>\n",
       "      <td>1.0</td>\n",
       "      <td>1.0</td>\n",
       "      <td>40.0</td>\n",
       "      <td>0.0</td>\n",
       "    </tr>\n",
       "    <tr>\n",
       "      <th>119</th>\n",
       "      <td>1848.21</td>\n",
       "      <td>100.0</td>\n",
       "      <td>100.0</td>\n",
       "      <td>90.0</td>\n",
       "      <td>0.0</td>\n",
       "    </tr>\n",
       "  </tbody>\n",
       "</table>\n",
       "<p>120 rows × 5 columns</p>\n",
       "</div>"
      ],
      "text/plain": [
       "           0        1          2     3    4\n",
       "0    2988.55  10000.0    10000.0  75.0  1.0\n",
       "1    3413.80      1.0      100.0  90.0  0.0\n",
       "2    3891.52      1.0        1.0   5.0  0.0\n",
       "3    4514.99  10000.0  1000000.0  25.0  1.0\n",
       "4     752.29     10.0       10.0  90.0  0.0\n",
       "..       ...      ...        ...   ...  ...\n",
       "115  3155.94  10000.0    10000.0  35.0  1.0\n",
       "116  2795.04      1.0       10.0  45.0  0.0\n",
       "117  3702.48      1.0        1.0  20.0  0.0\n",
       "118  2790.57      1.0        1.0  40.0  0.0\n",
       "119  1848.21    100.0      100.0  90.0  0.0\n",
       "\n",
       "[120 rows x 5 columns]"
      ]
     },
     "execution_count": 12,
     "metadata": {},
     "output_type": "execute_result"
    }
   ],
   "source": [
    "data_test = pd.read_csv('mock_test_set.csv')\n",
    "data_test"
   ]
  },
  {
   "cell_type": "code",
   "execution_count": 13,
   "id": "7f235153",
   "metadata": {},
   "outputs": [
    {
     "data": {
      "text/plain": [
       "array([[2.98855e+03, 1.00000e+04, 1.00000e+04, 7.50000e+01],\n",
       "       [3.41380e+03, 1.00000e+00, 1.00000e+02, 9.00000e+01],\n",
       "       [3.89152e+03, 1.00000e+00, 1.00000e+00, 5.00000e+00],\n",
       "       [4.51499e+03, 1.00000e+04, 1.00000e+06, 2.50000e+01],\n",
       "       [7.52290e+02, 1.00000e+01, 1.00000e+01, 9.00000e+01],\n",
       "       [1.40413e+03, 1.00000e+04, 1.00000e+03, 5.00000e+00],\n",
       "       [3.39065e+03, 1.00000e+06, 1.00000e+04, 5.00000e+00],\n",
       "       [2.62098e+03, 1.00000e+00, 1.00000e+01, 7.50000e+01],\n",
       "       [2.05960e+02, 1.00000e+01, 1.00000e+02, 1.50000e+01],\n",
       "       [1.49575e+03, 1.00000e+04, 1.00000e+04, 8.00000e+01],\n",
       "       [2.41590e+02, 1.00000e+04, 1.00000e+05, 1.00000e+01],\n",
       "       [4.01638e+03, 1.00000e+06, 1.00000e+03, 4.50000e+01],\n",
       "       [7.21820e+02, 1.00000e+00, 1.00000e+00, 3.50000e+01],\n",
       "       [5.76980e+02, 1.00000e+00, 1.00000e+02, 4.00000e+01],\n",
       "       [4.85430e+03, 1.00000e+03, 1.00000e+01, 7.00000e+01],\n",
       "       [4.82122e+03, 1.00000e+03, 1.00000e+06, 8.50000e+01],\n",
       "       [2.39061e+03, 1.00000e+06, 1.00000e+06, 6.00000e+01],\n",
       "       [3.75672e+03, 1.00000e+06, 1.00000e+05, 6.50000e+01],\n",
       "       [4.70472e+03, 1.00000e+03, 1.00000e+01, 5.00000e+00],\n",
       "       [3.75746e+03, 1.00000e+02, 1.00000e+00, 3.00000e+01],\n",
       "       [4.54620e+03, 1.00000e+06, 1.00000e+04, 5.00000e+01],\n",
       "       [2.70438e+03, 1.00000e+04, 1.00000e+03, 7.50000e+01],\n",
       "       [2.23712e+03, 1.00000e+06, 1.00000e+05, 4.00000e+01],\n",
       "       [9.26590e+02, 1.00000e+04, 1.00000e+06, 4.50000e+01],\n",
       "       [9.99650e+02, 1.00000e+00, 1.00000e+02, 6.50000e+01],\n",
       "       [3.91707e+03, 1.00000e+00, 1.00000e+01, 1.00000e+01],\n",
       "       [3.44056e+03, 1.00000e+00, 1.00000e+00, 4.00000e+01],\n",
       "       [3.97530e+03, 1.00000e+06, 1.00000e+06, 5.50000e+01],\n",
       "       [1.00924e+03, 1.00000e+00, 1.00000e+02, 2.50000e+01],\n",
       "       [1.99213e+03, 1.00000e+04, 1.00000e+04, 3.50000e+01],\n",
       "       [4.83762e+03, 1.00000e+02, 1.00000e+01, 6.50000e+01],\n",
       "       [3.20952e+03, 1.00000e+04, 1.00000e+04, 7.50000e+01],\n",
       "       [1.15274e+03, 1.00000e+06, 1.00000e+03, 4.00000e+01],\n",
       "       [3.63618e+03, 1.00000e+03, 1.00000e+01, 9.00000e+01],\n",
       "       [2.51871e+03, 1.00000e+06, 1.00000e+04, 8.50000e+01],\n",
       "       [2.03516e+03, 1.00000e+06, 1.00000e+05, 5.00000e+01],\n",
       "       [3.27261e+03, 1.00000e+01, 1.00000e+00, 2.50000e+01],\n",
       "       [4.18900e+01, 1.00000e+03, 1.00000e+03, 5.00000e+00],\n",
       "       [4.69895e+03, 1.00000e+01, 1.00000e+01, 7.50000e+01],\n",
       "       [3.31969e+03, 1.00000e+00, 1.00000e+00, 1.00000e+01],\n",
       "       [2.45985e+03, 1.00000e+06, 1.00000e+03, 5.00000e+01],\n",
       "       [2.20724e+03, 1.00000e+00, 1.00000e+00, 4.50000e+01],\n",
       "       [4.34720e+03, 1.00000e+03, 1.00000e+01, 4.50000e+01],\n",
       "       [4.26937e+03, 1.00000e+06, 1.00000e+03, 1.00000e+01],\n",
       "       [1.85445e+03, 1.00000e+00, 1.00000e+02, 9.00000e+01],\n",
       "       [2.28205e+03, 1.00000e+04, 1.00000e+03, 6.00000e+01],\n",
       "       [2.00710e+03, 1.00000e+03, 1.00000e+06, 6.50000e+01],\n",
       "       [3.81016e+03, 1.00000e+06, 1.00000e+06, 5.00000e+00],\n",
       "       [2.66118e+03, 1.00000e+04, 1.00000e+06, 5.00000e+01],\n",
       "       [3.51917e+03, 1.00000e+00, 1.00000e+00, 3.00000e+01],\n",
       "       [4.11659e+03, 1.00000e+02, 1.00000e+01, 7.50000e+01],\n",
       "       [4.81743e+03, 1.00000e+00, 1.00000e+02, 6.50000e+01],\n",
       "       [3.94702e+03, 1.00000e+03, 1.00000e+02, 5.50000e+01],\n",
       "       [4.25617e+03, 1.00000e+00, 1.00000e+00, 4.50000e+01],\n",
       "       [2.32532e+03, 1.00000e+06, 1.00000e+05, 2.00000e+01],\n",
       "       [3.17100e+01, 1.00000e+06, 1.00000e+03, 7.50000e+01],\n",
       "       [1.63836e+03, 1.00000e+00, 1.00000e+01, 9.00000e+01],\n",
       "       [1.31830e+02, 1.00000e+06, 1.00000e+03, 8.00000e+01],\n",
       "       [9.02940e+02, 1.00000e+04, 1.00000e+03, 7.00000e+01],\n",
       "       [7.52650e+02, 1.00000e+00, 1.00000e+02, 6.00000e+01],\n",
       "       [4.51900e+01, 1.00000e+04, 1.00000e+03, 5.50000e+01],\n",
       "       [4.11973e+03, 1.00000e+00, 1.00000e+01, 3.00000e+01],\n",
       "       [1.73601e+03, 1.00000e+00, 1.00000e+02, 5.00000e+01],\n",
       "       [4.03679e+03, 1.00000e+06, 1.00000e+06, 1.50000e+01],\n",
       "       [3.46861e+03, 1.00000e+04, 1.00000e+06, 4.00000e+01],\n",
       "       [2.52757e+03, 1.00000e+04, 1.00000e+03, 3.00000e+01],\n",
       "       [4.77256e+03, 1.00000e+06, 1.00000e+05, 6.00000e+01],\n",
       "       [2.46935e+03, 1.00000e+04, 1.00000e+05, 6.00000e+01],\n",
       "       [4.69893e+03, 1.00000e+00, 1.00000e+01, 5.00000e+01],\n",
       "       [4.47220e+02, 1.00000e+06, 1.00000e+04, 7.00000e+01],\n",
       "       [3.72794e+03, 1.00000e+00, 1.00000e+01, 7.00000e+01],\n",
       "       [2.21050e+03, 1.00000e+06, 1.00000e+06, 5.00000e+00],\n",
       "       [2.24081e+03, 1.00000e+03, 1.00000e+06, 5.00000e+00],\n",
       "       [4.55585e+03, 1.00000e+02, 1.00000e+02, 4.50000e+01],\n",
       "       [3.23958e+03, 1.00000e+00, 1.00000e+02, 8.50000e+01],\n",
       "       [3.42972e+03, 1.00000e+00, 1.00000e+02, 8.00000e+01],\n",
       "       [2.50783e+03, 1.00000e+06, 1.00000e+04, 4.50000e+01],\n",
       "       [3.36004e+03, 1.00000e+01, 1.00000e+00, 5.00000e+01],\n",
       "       [4.16172e+03, 1.00000e+06, 1.00000e+06, 5.00000e+01],\n",
       "       [1.53463e+03, 1.00000e+00, 1.00000e+01, 3.00000e+01],\n",
       "       [1.64620e+03, 1.00000e+06, 1.00000e+06, 3.50000e+01],\n",
       "       [2.33391e+03, 1.00000e+04, 1.00000e+06, 7.00000e+01],\n",
       "       [2.11567e+03, 1.00000e+02, 1.00000e+01, 8.00000e+01],\n",
       "       [1.60697e+03, 1.00000e+06, 1.00000e+05, 2.50000e+01],\n",
       "       [1.67560e+02, 1.00000e+00, 1.00000e+01, 8.50000e+01],\n",
       "       [3.64824e+03, 1.00000e+00, 1.00000e+02, 1.00000e+00],\n",
       "       [1.90790e+02, 1.00000e+06, 1.00000e+03, 9.00000e+01],\n",
       "       [1.92945e+03, 1.00000e+00, 1.00000e+01, 6.50000e+01],\n",
       "       [1.00331e+03, 1.00000e+00, 1.00000e+00, 8.00000e+01],\n",
       "       [1.01440e+03, 1.00000e+06, 1.00000e+06, 1.50000e+01],\n",
       "       [4.16923e+03, 1.00000e+06, 1.00000e+05, 6.50000e+01],\n",
       "       [3.29637e+03, 1.00000e+00, 1.00000e+01, 3.50000e+01],\n",
       "       [1.70014e+03, 1.00000e+06, 1.00000e+04, 2.00000e+01],\n",
       "       [4.66384e+03, 1.00000e+06, 1.00000e+03, 2.00000e+01],\n",
       "       [2.53439e+03, 1.00000e+06, 1.00000e+03, 7.50000e+01],\n",
       "       [1.56194e+03, 1.00000e+00, 1.00000e+01, 6.50000e+01],\n",
       "       [4.15129e+03, 1.00000e+00, 1.00000e+00, 5.00000e+00],\n",
       "       [3.30718e+03, 1.00000e+03, 1.00000e+00, 2.50000e+01],\n",
       "       [3.73480e+02, 1.00000e+06, 1.00000e+03, 9.00000e+01],\n",
       "       [2.29194e+03, 1.00000e+03, 1.00000e+06, 5.00000e+00],\n",
       "       [5.24450e+02, 1.00000e+01, 1.00000e+01, 4.50000e+01],\n",
       "       [3.21138e+03, 1.00000e+02, 1.00000e+02, 1.00000e+00],\n",
       "       [4.46244e+03, 1.00000e+01, 1.00000e+01, 8.50000e+01],\n",
       "       [4.91334e+03, 1.00000e+06, 1.00000e+03, 4.50000e+01],\n",
       "       [1.47198e+03, 1.00000e+06, 1.00000e+06, 1.00000e+00],\n",
       "       [2.42191e+03, 1.00000e+03, 1.00000e+06, 9.00000e+01],\n",
       "       [2.60017e+03, 1.00000e+00, 1.00000e+01, 6.00000e+01],\n",
       "       [4.41733e+03, 1.00000e+06, 1.00000e+06, 5.00000e+01],\n",
       "       [1.61560e+02, 1.00000e+04, 1.00000e+05, 4.50000e+01],\n",
       "       [4.00330e+03, 1.00000e+06, 1.00000e+06, 8.00000e+01],\n",
       "       [4.34916e+03, 1.00000e+00, 1.00000e+00, 5.00000e+00],\n",
       "       [3.73280e+02, 1.00000e+06, 1.00000e+04, 5.00000e+01],\n",
       "       [4.68626e+03, 1.00000e+01, 1.00000e+01, 3.50000e+01],\n",
       "       [1.70038e+03, 1.00000e+00, 1.00000e+05, 7.00000e+01],\n",
       "       [2.52006e+03, 1.00000e+00, 1.00000e+01, 1.00000e+00],\n",
       "       [3.15594e+03, 1.00000e+04, 1.00000e+04, 3.50000e+01],\n",
       "       [2.79504e+03, 1.00000e+00, 1.00000e+01, 4.50000e+01],\n",
       "       [3.70248e+03, 1.00000e+00, 1.00000e+00, 2.00000e+01],\n",
       "       [2.79057e+03, 1.00000e+00, 1.00000e+00, 4.00000e+01],\n",
       "       [1.84821e+03, 1.00000e+02, 1.00000e+02, 9.00000e+01]])"
      ]
     },
     "execution_count": 13,
     "metadata": {},
     "output_type": "execute_result"
    }
   ],
   "source": [
    "X_test = data_test[['0','1','2','3']].to_numpy()\n",
    "y_test = data_test[['4']].to_numpy()\n",
    "X_test"
   ]
  },
  {
   "cell_type": "code",
   "execution_count": 14,
   "id": "18a7f4f2",
   "metadata": {},
   "outputs": [
    {
     "data": {
      "text/plain": [
       "array([[1.],\n",
       "       [0.],\n",
       "       [0.],\n",
       "       [1.],\n",
       "       [0.],\n",
       "       [1.],\n",
       "       [1.],\n",
       "       [0.],\n",
       "       [0.],\n",
       "       [1.],\n",
       "       [1.],\n",
       "       [1.],\n",
       "       [0.],\n",
       "       [0.],\n",
       "       [0.],\n",
       "       [1.],\n",
       "       [1.],\n",
       "       [1.],\n",
       "       [0.],\n",
       "       [0.],\n",
       "       [1.],\n",
       "       [1.],\n",
       "       [1.],\n",
       "       [1.],\n",
       "       [0.],\n",
       "       [0.],\n",
       "       [0.],\n",
       "       [1.],\n",
       "       [0.],\n",
       "       [1.],\n",
       "       [0.],\n",
       "       [1.],\n",
       "       [1.],\n",
       "       [0.],\n",
       "       [1.],\n",
       "       [1.],\n",
       "       [0.],\n",
       "       [1.],\n",
       "       [0.],\n",
       "       [0.],\n",
       "       [1.],\n",
       "       [0.],\n",
       "       [0.],\n",
       "       [1.],\n",
       "       [0.],\n",
       "       [1.],\n",
       "       [1.],\n",
       "       [1.],\n",
       "       [1.],\n",
       "       [0.],\n",
       "       [0.],\n",
       "       [0.],\n",
       "       [0.],\n",
       "       [0.],\n",
       "       [1.],\n",
       "       [1.],\n",
       "       [0.],\n",
       "       [1.],\n",
       "       [1.],\n",
       "       [0.],\n",
       "       [1.],\n",
       "       [0.],\n",
       "       [0.],\n",
       "       [1.],\n",
       "       [1.],\n",
       "       [1.],\n",
       "       [1.],\n",
       "       [1.],\n",
       "       [0.],\n",
       "       [1.],\n",
       "       [0.],\n",
       "       [1.],\n",
       "       [1.],\n",
       "       [0.],\n",
       "       [0.],\n",
       "       [0.],\n",
       "       [1.],\n",
       "       [0.],\n",
       "       [1.],\n",
       "       [0.],\n",
       "       [1.],\n",
       "       [1.],\n",
       "       [0.],\n",
       "       [1.],\n",
       "       [0.],\n",
       "       [0.],\n",
       "       [1.],\n",
       "       [0.],\n",
       "       [0.],\n",
       "       [1.],\n",
       "       [1.],\n",
       "       [0.],\n",
       "       [1.],\n",
       "       [1.],\n",
       "       [1.],\n",
       "       [0.],\n",
       "       [0.],\n",
       "       [0.],\n",
       "       [1.],\n",
       "       [1.],\n",
       "       [0.],\n",
       "       [0.],\n",
       "       [0.],\n",
       "       [1.],\n",
       "       [1.],\n",
       "       [1.],\n",
       "       [0.],\n",
       "       [1.],\n",
       "       [1.],\n",
       "       [1.],\n",
       "       [0.],\n",
       "       [1.],\n",
       "       [0.],\n",
       "       [1.],\n",
       "       [0.],\n",
       "       [1.],\n",
       "       [0.],\n",
       "       [0.],\n",
       "       [0.],\n",
       "       [0.]])"
      ]
     },
     "execution_count": 14,
     "metadata": {},
     "output_type": "execute_result"
    }
   ],
   "source": [
    "y_test"
   ]
  },
  {
   "cell_type": "markdown",
   "id": "5096f38c",
   "metadata": {},
   "source": [
    "# Amplitude encoding"
   ]
  },
  {
   "cell_type": "code",
   "execution_count": 23,
   "id": "ca91176d",
   "metadata": {},
   "outputs": [
    {
     "data": {
      "image/png": "[encoded data removed]",
      "text/plain": [
       "<Figure size 327.252x144.48 with 1 Axes>"
      ]
     },
     "execution_count": 23,
     "metadata": {},
     "output_type": "execute_result"
    }
   ],
   "source": [
    "initial = RawFeatureVector(2**num_qubits)\n",
    "initial.draw(output='mpl')"
   ]
  },
  {
   "cell_type": "code",
   "execution_count": 4,
   "id": "cf69d621",
   "metadata": {},
   "outputs": [
    {
     "data": {
      "image/png": "[encoded data removed]",
      "text/plain": [
       "<Figure size 267.052x144.48 with 1 Axes>"
      ]
     },
     "execution_count": 4,
     "metadata": {},
     "output_type": "execute_result"
    }
   ],
   "source": [
    "ansatz = RealAmplitudes(num_qubits, entanglement='full', reps=2)\n",
    "ansatz.draw(output='mpl')"
   ]
  },
  {
   "cell_type": "code",
   "execution_count": 5,
   "id": "e8c5c2f5",
   "metadata": {},
   "outputs": [
    {
     "data": {
      "image/png": "[encoded data removed]",
      "text/plain": [
       "<Figure size 507.852x144.48 with 1 Axes>"
      ]
     },
     "execution_count": 5,
     "metadata": {},
     "output_type": "execute_result"
    }
   ],
   "source": [
    "qc = QuantumCircuit(num_qubits)\n",
    "qc.append(initial, range(num_qubits))\n",
    "qc.append(ansatz, range(num_qubits))\n",
    "qc.decompose().draw(output='mpl')"
   ]
  },
  {
   "cell_type": "code",
   "execution_count": 6,
   "id": "3f9f1f02",
   "metadata": {},
   "outputs": [],
   "source": [
    "# parity maps bitstrings to 0 or 1\n",
    "def parity(x):\n",
    "    return \"{:b}\".format(x).count(\"1\") % 2\n",
    "output_shape = 2**(num_qubits-1)"
   ]
  },
  {
   "cell_type": "code",
   "execution_count": 7,
   "id": "9b36ac5b",
   "metadata": {},
   "outputs": [
    {
     "name": "stderr",
     "output_type": "stream",
     "text": [
      "Cannot compute gradient operator! Continuing without gradients!\n"
     ]
    }
   ],
   "source": [
    "# specify circuit QNN\n",
    "qnn = CircuitQNN(qc, input_params=initial.parameters, weight_params=ansatz.parameters, output_shape=output_shape, interpret=parity, \n",
    "                  quantum_instance=qi_qasm)"
   ]
  },
  {
   "cell_type": "code",
   "execution_count": 8,
   "id": "b064e848",
   "metadata": {},
   "outputs": [
    {
     "data": {
      "text/plain": [
       "(ParameterView([ParameterVectorElement(x[0]), ParameterVectorElement(x[1]), ParameterVectorElement(x[2]), ParameterVectorElement(x[3])]),\n",
       " ParameterView([ParameterVectorElement(θ[0]), ParameterVectorElement(θ[1]), ParameterVectorElement(θ[2]), ParameterVectorElement(θ[3]), ParameterVectorElement(θ[4]), ParameterVectorElement(θ[5])]))"
      ]
     },
     "execution_count": 8,
     "metadata": {},
     "output_type": "execute_result"
    }
   ],
   "source": [
    "initial.parameters, ansatz.parameters"
   ]
  },
  {
   "cell_type": "code",
   "execution_count": 15,
   "id": "e3dc46de",
   "metadata": {},
   "outputs": [],
   "source": [
    "def callback_graph(weights, obj_func_eval):\n",
    "    clear_output(wait=True)\n",
    "    objective_func_vals.append(obj_func_eval)\n",
    "    print('Iteration is', len(objective_func_vals))\n",
    "    print('Weights are', weights)\n",
    "    print('Objective function value is', obj_func_eval)\n",
    "    plt.title(\"Objective function value against iteration\")\n",
    "    plt.xlabel(\"Iteration\")\n",
    "    plt.ylabel(\"Objective function value\")\n",
    "    plt.plot(range(len(objective_func_vals)), objective_func_vals)\n",
    "    plt.show()"
   ]
  },
  {
   "cell_type": "code",
   "execution_count": 16,
   "id": "1cc86148",
   "metadata": {},
   "outputs": [],
   "source": [
    "circuit_classifier = NeuralNetworkClassifier(neural_network=qnn, callback=callback_graph,\n",
    "                                             optimizer=COBYLA())"
   ]
  },
  {
   "cell_type": "code",
   "execution_count": 17,
   "id": "16defa65",
   "metadata": {},
   "outputs": [
    {
     "name": "stdout",
     "output_type": "stream",
     "text": [
      "Iteration is 95\n",
      "Weights are [1.68040214 0.61081444 0.44844014 0.38630419 1.28497172 2.59008352]\n",
      "Objective function value is 56.0380859375\n"
     ]
    },
    {
     "data": {
      "image/png": "[encoded data removed]",
      "text/plain": [
       "<Figure size 864x432 with 1 Axes>"
      ]
     },
     "metadata": {
      "needs_background": "light"
     },
     "output_type": "display_data"
    },
    {
     "data": {
      "text/plain": [
       "0.8233333333333334"
      ]
     },
     "execution_count": 17,
     "metadata": {},
     "output_type": "execute_result"
    }
   ],
   "source": [
    "# create empty array for callback to store evaluations of the objective function\n",
    "objective_func_vals = []\n",
    "plt.rcParams[\"figure.figsize\"] = (12, 6)\n",
    "\n",
    "# fit classifier to data\n",
    "circuit_classifier.fit(X_train, y_train.flatten())\n",
    "\n",
    "# return to default figsize\n",
    "plt.rcParams[\"figure.figsize\"] = (6, 4)\n",
    "\n",
    "# score classifier\n",
    "circuit_classifier.score(X_train, y_train.flatten())"
   ]
  },
  {
   "cell_type": "code",
   "execution_count": 18,
   "id": "a18b73c7",
   "metadata": {},
   "outputs": [
    {
     "data": {
      "text/plain": [
       "1.0"
      ]
     },
     "execution_count": 18,
     "metadata": {},
     "output_type": "execute_result"
    }
   ],
   "source": [
    "circuit_classifier.score(X_test, y_test.flatten())"
   ]
  },
  {
   "cell_type": "code",
   "execution_count": 19,
   "id": "f04011fc",
   "metadata": {},
   "outputs": [
    {
     "data": {
      "text/plain": [
       "array([1, 0, 0, 1, 0, 1, 1, 0, 0, 1, 1, 1, 0, 0, 0, 1, 1, 1, 0, 0, 1, 1,\n",
       "       1, 1, 0, 0, 0, 1, 0, 1, 0, 1, 1, 0, 1, 1, 0, 1, 0, 0, 1, 0, 0, 1,\n",
       "       0, 1, 1, 1, 1, 0, 0, 0, 0, 0, 1, 1, 0, 1, 1, 0, 1, 0, 0, 1, 1, 1,\n",
       "       1, 1, 0, 1, 0, 1, 1, 0, 0, 0, 1, 0, 1, 0, 1, 1, 0, 1, 0, 0, 1, 0,\n",
       "       0, 1, 1, 0, 1, 1, 1, 0, 0, 0, 1, 1, 0, 0, 0, 1, 1, 1, 0, 1, 1, 1,\n",
       "       0, 1, 0, 1, 0, 1, 0, 0, 0, 0], dtype=int64)"
      ]
     },
     "execution_count": 19,
     "metadata": {},
     "output_type": "execute_result"
    }
   ],
   "source": [
    "circuit_classifier.predict(X_test)"
   ]
  },
  {
   "cell_type": "code",
   "execution_count": 20,
   "id": "86934820",
   "metadata": {},
   "outputs": [
    {
     "data": {
      "text/plain": [
       "array([1., 0., 0., 1., 0., 1., 1., 0., 0., 1., 1., 1., 0., 0., 0., 1., 1.,\n",
       "       1., 0., 0., 1., 1., 1., 1., 0., 0., 0., 1., 0., 1., 0., 1., 1., 0.,\n",
       "       1., 1., 0., 1., 0., 0., 1., 0., 0., 1., 0., 1., 1., 1., 1., 0., 0.,\n",
       "       0., 0., 0., 1., 1., 0., 1., 1., 0., 1., 0., 0., 1., 1., 1., 1., 1.,\n",
       "       0., 1., 0., 1., 1., 0., 0., 0., 1., 0., 1., 0., 1., 1., 0., 1., 0.,\n",
       "       0., 1., 0., 0., 1., 1., 0., 1., 1., 1., 0., 0., 0., 1., 1., 0., 0.,\n",
       "       0., 1., 1., 1., 0., 1., 1., 1., 0., 1., 0., 1., 0., 1., 0., 0., 0.,\n",
       "       0.])"
      ]
     },
     "execution_count": 20,
     "metadata": {},
     "output_type": "execute_result"
    }
   ],
   "source": [
    "y_test.flatten()"
   ]
  },
  {
   "cell_type": "markdown",
   "id": "ec0bb3cd",
   "metadata": {},
   "source": [
    "# Kernel encoding"
   ]
  },
  {
   "cell_type": "code",
   "execution_count": 73,
   "id": "90ba54ba",
   "metadata": {},
   "outputs": [
    {
     "data": {
      "image/png": "[encoded data removed]",
      "text/plain": [
       "<Figure size 267.197x264.88 with 1 Axes>"
      ]
     },
     "execution_count": 73,
     "metadata": {},
     "output_type": "execute_result"
    }
   ],
   "source": [
    "initial = ZFeatureMap(2**num_qubits)\n",
    "initial.draw(output='mpl')"
   ]
  },
  {
   "cell_type": "code",
   "execution_count": 74,
   "id": "cf69d621",
   "metadata": {},
   "outputs": [
    {
     "data": {
      "image/png": "[encoded data removed]",
      "text/plain": [
       "<Figure size 628.397x264.88 with 1 Axes>"
      ]
     },
     "execution_count": 74,
     "metadata": {},
     "output_type": "execute_result"
    }
   ],
   "source": [
    "ansatz = RealAmplitudes(2**num_qubits, entanglement='full', reps=3)\n",
    "ansatz.draw(output='mpl')"
   ]
  },
  {
   "cell_type": "code",
   "execution_count": 75,
   "id": "e8c5c2f5",
   "metadata": {},
   "outputs": [
    {
     "data": {
      "image/png": "[encoded data removed]",
      "text/plain": [
       "<Figure size 808.997x264.88 with 1 Axes>"
      ]
     },
     "execution_count": 75,
     "metadata": {},
     "output_type": "execute_result"
    }
   ],
   "source": [
    "qc = QuantumCircuit(2**num_qubits)\n",
    "qc.append(initial, range(2**num_qubits))\n",
    "qc.append(ansatz, range(2**num_qubits))\n",
    "qc.decompose().draw(output='mpl')"
   ]
  },
  {
   "cell_type": "code",
   "execution_count": 76,
   "id": "3f9f1f02",
   "metadata": {},
   "outputs": [],
   "source": [
    "# parity maps bitstrings to 0 or 1\n",
    "def parity(x):\n",
    "    return \"{:b}\".format(x).count(\"1\") % 2\n",
    "output_shape = 2**(num_qubits-1)"
   ]
  },
  {
   "cell_type": "code",
   "execution_count": 77,
   "id": "9b36ac5b",
   "metadata": {},
   "outputs": [],
   "source": [
    "# specify circuit QNN\n",
    "qnn = CircuitQNN(qc, input_params=initial.parameters, weight_params=ansatz.parameters, output_shape=output_shape, interpret=parity, \n",
    "                  quantum_instance=qi_qasm)"
   ]
  },
  {
   "cell_type": "code",
   "execution_count": 78,
   "id": "b064e848",
   "metadata": {},
   "outputs": [
    {
     "data": {
      "text/plain": [
       "(ParameterView([ParameterVectorElement(x[0]), ParameterVectorElement(x[1]), ParameterVectorElement(x[2]), ParameterVectorElement(x[3])]),\n",
       " ParameterView([ParameterVectorElement(θ[0]), ParameterVectorElement(θ[1]), ParameterVectorElement(θ[2]), ParameterVectorElement(θ[3]), ParameterVectorElement(θ[4]), ParameterVectorElement(θ[5]), ParameterVectorElement(θ[6]), ParameterVectorElement(θ[7]), ParameterVectorElement(θ[8]), ParameterVectorElement(θ[9]), ParameterVectorElement(θ[10]), ParameterVectorElement(θ[11]), ParameterVectorElement(θ[12]), ParameterVectorElement(θ[13]), ParameterVectorElement(θ[14]), ParameterVectorElement(θ[15])]))"
      ]
     },
     "execution_count": 78,
     "metadata": {},
     "output_type": "execute_result"
    }
   ],
   "source": [
    "initial.parameters, ansatz.parameters"
   ]
  },
  {
   "cell_type": "code",
   "execution_count": 79,
   "id": "e3dc46de",
   "metadata": {},
   "outputs": [],
   "source": [
    "def callback_graph(weights, obj_func_eval):\n",
    "    clear_output(wait=True)\n",
    "    objective_func_vals.append(obj_func_eval)\n",
    "    print('Iteration is', len(objective_func_vals))\n",
    "    print('Weights are', weights)\n",
    "    print('Objective function value is', obj_func_eval)\n",
    "    plt.title(\"Objective function value against iteration\")\n",
    "    plt.xlabel(\"Iteration\")\n",
    "    plt.ylabel(\"Objective function value\")\n",
    "    plt.plot(range(len(objective_func_vals)), objective_func_vals)\n",
    "    plt.show()"
   ]
  },
  {
   "cell_type": "code",
   "execution_count": 80,
   "id": "1cc86148",
   "metadata": {},
   "outputs": [],
   "source": [
    "circuit_classifier = NeuralNetworkClassifier(neural_network=qnn, callback=callback_graph,\n",
    "                                             optimizer=COBYLA())"
   ]
  },
  {
   "cell_type": "code",
   "execution_count": 81,
   "id": "16defa65",
   "metadata": {},
   "outputs": [
    {
     "name": "stdout",
     "output_type": "stream",
     "text": [
      "Iteration is 190\n",
      "Weights are [ 1.62879731  0.29901181  1.95951484  1.49777256  0.80056084  2.5316582\n",
      "  1.36383822 -0.39079426  0.19196914  0.70720961  1.67421923  0.04869677\n",
      " -0.09510068  0.11848224 -0.04616914  1.37829064]\n",
      "Objective function value is 105.3212890625\n"
     ]
    },
    {
     "data": {
      "image/png": "[encoded data removed]",
      "text/plain": [
       "<Figure size 864x432 with 1 Axes>"
      ]
     },
     "metadata": {
      "needs_background": "light"
     },
     "output_type": "display_data"
    },
    {
     "data": {
      "text/plain": [
       "0.82"
      ]
     },
     "execution_count": 81,
     "metadata": {},
     "output_type": "execute_result"
    }
   ],
   "source": [
    "# create empty array for callback to store evaluations of the objective function\n",
    "objective_func_vals = []\n",
    "plt.rcParams[\"figure.figsize\"] = (12, 6)\n",
    "\n",
    "# fit classifier to data\n",
    "circuit_classifier.fit(X_train, y_train.flatten())\n",
    "\n",
    "# return to default figsize\n",
    "plt.rcParams[\"figure.figsize\"] = (6, 4)\n",
    "\n",
    "# score classifier\n",
    "circuit_classifier.score(X_train, y_train.flatten())"
   ]
  },
  {
   "cell_type": "code",
   "execution_count": 70,
   "id": "a18b73c7",
   "metadata": {},
   "outputs": [
    {
     "data": {
      "text/plain": [
       "0.85"
      ]
     },
     "execution_count": 70,
     "metadata": {},
     "output_type": "execute_result"
    }
   ],
   "source": [
    "circuit_classifier.score(X_test, y_test.flatten())"
   ]
  },
  {
   "cell_type": "code",
   "execution_count": 71,
   "id": "f04011fc",
   "metadata": {},
   "outputs": [
    {
     "data": {
      "text/plain": [
       "array([1, 0, 0, 1, 1, 1, 1, 0, 1, 1, 1, 1, 0, 0, 0, 0, 1, 1, 0, 1, 1, 1,\n",
       "       1, 1, 0, 0, 0, 1, 0, 1, 1, 1, 1, 0, 1, 1, 1, 0, 1, 0, 1, 0, 0, 1,\n",
       "       0, 1, 0, 1, 1, 0, 1, 0, 0, 0, 1, 1, 0, 1, 1, 0, 1, 0, 0, 1, 1, 1,\n",
       "       1, 1, 0, 1, 0, 1, 0, 1, 0, 0, 1, 1, 1, 0, 1, 1, 1, 1, 0, 0, 1, 0,\n",
       "       0, 1, 1, 0, 1, 1, 1, 0, 0, 0, 1, 0, 1, 1, 1, 1, 1, 0, 0, 1, 1, 1,\n",
       "       0, 1, 1, 0, 0, 1, 0, 0, 0, 1], dtype=int64)"
      ]
     },
     "execution_count": 71,
     "metadata": {},
     "output_type": "execute_result"
    }
   ],
   "source": [
    "circuit_classifier.predict(X_test)"
   ]
  },
  {
   "cell_type": "code",
   "execution_count": 72,
   "id": "86934820",
   "metadata": {},
   "outputs": [
    {
     "data": {
      "text/plain": [
       "array([1., 0., 0., 1., 0., 1., 1., 0., 0., 1., 1., 1., 0., 0., 0., 1., 1.,\n",
       "       1., 0., 0., 1., 1., 1., 1., 0., 0., 0., 1., 0., 1., 0., 1., 1., 0.,\n",
       "       1., 1., 0., 1., 0., 0., 1., 0., 0., 1., 0., 1., 1., 1., 1., 0., 0.,\n",
       "       0., 0., 0., 1., 1., 0., 1., 1., 0., 1., 0., 0., 1., 1., 1., 1., 1.,\n",
       "       0., 1., 0., 1., 1., 0., 0., 0., 1., 0., 1., 0., 1., 1., 0., 1., 0.,\n",
       "       0., 1., 0., 0., 1., 1., 0., 1., 1., 1., 0., 0., 0., 1., 1., 0., 0.,\n",
       "       0., 1., 1., 1., 0., 1., 1., 1., 0., 1., 0., 1., 0., 1., 0., 0., 0.,\n",
       "       0.])"
      ]
     },
     "execution_count": 72,
     "metadata": {},
     "output_type": "execute_result"
    }
   ],
   "source": [
    "y_test.flatten()"
   ]
  },
  {
   "cell_type": "code",
   "execution_count": null,
   "id": "bfd6fff0",
   "metadata": {},
   "outputs": [],
   "source": []
  },
  {
   "cell_type": "code",
   "execution_count": 3,
   "id": "0ff46164",
   "metadata": {},
   "outputs": [
    {
     "data": {
      "image/png": "[encoded data removed]",
      "text/plain": [
       "<Figure size 267.197x325.08 with 1 Axes>"
      ]
     },
     "execution_count": 3,
     "metadata": {},
     "output_type": "execute_result"
    }
   ],
   "source": [
    "#NO\n",
    "initial = QuantumCircuit(num_qubits, global_phase=-1)\n",
    "initial_params = ParameterVector('initial',length=num_qubits)\n",
    "for qubit in range(num_qubits):\n",
    "    initial.rx(initial_params.params[qubit],qubit)\n",
    "    initial.y(qubit)\n",
    "    initial.x(qubit)\n",
    "initial.draw(output='mpl')"
   ]
  },
  {
   "cell_type": "code",
   "execution_count": 127,
   "id": "2e536721",
   "metadata": {},
   "outputs": [
    {
     "data": {
      "image/png": "[encoded data removed]",
      "text/plain": [
       "<Figure size 267.052x144.48 with 1 Axes>"
      ]
     },
     "execution_count": 127,
     "metadata": {},
     "output_type": "execute_result"
    }
   ],
   "source": [
    "#NO\n",
    "initial = ZZFeatureMap(num_qubits, reps=1)\n",
    "initial.draw(output='mpl')"
   ]
  },
  {
   "cell_type": "code",
   "execution_count": 139,
   "id": "48cf3fda",
   "metadata": {},
   "outputs": [
    {
     "data": {
      "text/plain": [
       "(array([0.64844786, 0.97731594, 0.73813799, 0.00251918]),\n",
       " array([0.51131831, 0.53341178, 0.2006106 , 0.44048536, 0.34398861,\n",
       "        0.83533113]))"
      ]
     },
     "execution_count": 139,
     "metadata": {},
     "output_type": "execute_result"
    }
   ],
   "source": [
    "input1, weights1"
   ]
  },
  {
   "cell_type": "code",
   "execution_count": 140,
   "id": "b94b6517",
   "metadata": {},
   "outputs": [
    {
     "data": {
      "text/plain": [
       "(4, 6)"
      ]
     },
     "execution_count": 140,
     "metadata": {},
     "output_type": "execute_result"
    }
   ],
   "source": [
    "qnn.num_inputs, qnn.num_weights"
   ]
  },
  {
   "cell_type": "code",
   "execution_count": 49,
   "id": "af5fbf64",
   "metadata": {
    "scrolled": true
   },
   "outputs": [
    {
     "data": {
      "text/plain": [
       "array([[ 5.82261906, -1.0273916 , -6.22706161,  4.08128001,  5.33196695],\n",
       "       [-4.3085486 ,  3.2533671 ,  2.47289738, -0.41767918,  4.00221919],\n",
       "       [ 3.02958401,  5.09396935,  6.13144793,  1.54270285,  2.40193909],\n",
       "       [ 4.52823048, -3.60252791,  5.98436897,  2.53054528,  4.49256321]])"
      ]
     },
     "execution_count": 49,
     "metadata": {},
     "output_type": "execute_result"
    }
   ],
   "source": [
    "#NO\n",
    "input_states = np.array([(2*np.pi - (-2*np.pi)) * np.random.rand(num_qubits) - 2*np.pi for i in range(4)])\n",
    "input_states"
   ]
  },
  {
   "cell_type": "code",
   "execution_count": 50,
   "id": "4f330501",
   "metadata": {},
   "outputs": [
    {
     "data": {
      "text/plain": [
       "array([ 3,  5, 10, 12])"
      ]
     },
     "execution_count": 50,
     "metadata": {},
     "output_type": "execute_result"
    }
   ],
   "source": [
    "#NO\n",
    "output_states = np.array([3, 5, 10, 12])\n",
    "output_states"
   ]
  },
  {
   "cell_type": "code",
   "execution_count": 51,
   "id": "d7abe572",
   "metadata": {},
   "outputs": [
    {
     "data": {
      "text/plain": [
       "(array([[ 4.52823048, -3.60252791,  5.98436897,  2.53054528,  4.49256321],\n",
       "        [ 4.52823048, -3.60252791,  5.98436897,  2.53054528,  4.49256321],\n",
       "        [-4.3085486 ,  3.2533671 ,  2.47289738, -0.41767918,  4.00221919],\n",
       "        [ 3.02958401,  5.09396935,  6.13144793,  1.54270285,  2.40193909],\n",
       "        [-4.3085486 ,  3.2533671 ,  2.47289738, -0.41767918,  4.00221919],\n",
       "        [ 4.52823048, -3.60252791,  5.98436897,  2.53054528,  4.49256321],\n",
       "        [-4.3085486 ,  3.2533671 ,  2.47289738, -0.41767918,  4.00221919],\n",
       "        [ 3.02958401,  5.09396935,  6.13144793,  1.54270285,  2.40193909],\n",
       "        [-4.3085486 ,  3.2533671 ,  2.47289738, -0.41767918,  4.00221919],\n",
       "        [ 3.02958401,  5.09396935,  6.13144793,  1.54270285,  2.40193909],\n",
       "        [ 5.82261906, -1.0273916 , -6.22706161,  4.08128001,  5.33196695],\n",
       "        [-4.3085486 ,  3.2533671 ,  2.47289738, -0.41767918,  4.00221919],\n",
       "        [ 4.52823048, -3.60252791,  5.98436897,  2.53054528,  4.49256321],\n",
       "        [ 5.82261906, -1.0273916 , -6.22706161,  4.08128001,  5.33196695],\n",
       "        [-4.3085486 ,  3.2533671 ,  2.47289738, -0.41767918,  4.00221919],\n",
       "        [-4.3085486 ,  3.2533671 ,  2.47289738, -0.41767918,  4.00221919],\n",
       "        [ 5.82261906, -1.0273916 , -6.22706161,  4.08128001,  5.33196695],\n",
       "        [ 5.82261906, -1.0273916 , -6.22706161,  4.08128001,  5.33196695],\n",
       "        [ 5.82261906, -1.0273916 , -6.22706161,  4.08128001,  5.33196695],\n",
       "        [ 4.52823048, -3.60252791,  5.98436897,  2.53054528,  4.49256321],\n",
       "        [-4.3085486 ,  3.2533671 ,  2.47289738, -0.41767918,  4.00221919],\n",
       "        [-4.3085486 ,  3.2533671 ,  2.47289738, -0.41767918,  4.00221919],\n",
       "        [ 5.82261906, -1.0273916 , -6.22706161,  4.08128001,  5.33196695],\n",
       "        [ 4.52823048, -3.60252791,  5.98436897,  2.53054528,  4.49256321],\n",
       "        [ 5.82261906, -1.0273916 , -6.22706161,  4.08128001,  5.33196695],\n",
       "        [-4.3085486 ,  3.2533671 ,  2.47289738, -0.41767918,  4.00221919],\n",
       "        [ 5.82261906, -1.0273916 , -6.22706161,  4.08128001,  5.33196695],\n",
       "        [ 3.02958401,  5.09396935,  6.13144793,  1.54270285,  2.40193909],\n",
       "        [-4.3085486 ,  3.2533671 ,  2.47289738, -0.41767918,  4.00221919],\n",
       "        [-4.3085486 ,  3.2533671 ,  2.47289738, -0.41767918,  4.00221919],\n",
       "        [ 5.82261906, -1.0273916 , -6.22706161,  4.08128001,  5.33196695],\n",
       "        [ 3.02958401,  5.09396935,  6.13144793,  1.54270285,  2.40193909],\n",
       "        [-4.3085486 ,  3.2533671 ,  2.47289738, -0.41767918,  4.00221919],\n",
       "        [ 5.82261906, -1.0273916 , -6.22706161,  4.08128001,  5.33196695],\n",
       "        [ 5.82261906, -1.0273916 , -6.22706161,  4.08128001,  5.33196695],\n",
       "        [-4.3085486 ,  3.2533671 ,  2.47289738, -0.41767918,  4.00221919],\n",
       "        [ 3.02958401,  5.09396935,  6.13144793,  1.54270285,  2.40193909],\n",
       "        [-4.3085486 ,  3.2533671 ,  2.47289738, -0.41767918,  4.00221919],\n",
       "        [ 3.02958401,  5.09396935,  6.13144793,  1.54270285,  2.40193909],\n",
       "        [ 5.82261906, -1.0273916 , -6.22706161,  4.08128001,  5.33196695],\n",
       "        [ 4.52823048, -3.60252791,  5.98436897,  2.53054528,  4.49256321],\n",
       "        [-4.3085486 ,  3.2533671 ,  2.47289738, -0.41767918,  4.00221919],\n",
       "        [ 3.02958401,  5.09396935,  6.13144793,  1.54270285,  2.40193909],\n",
       "        [ 3.02958401,  5.09396935,  6.13144793,  1.54270285,  2.40193909],\n",
       "        [ 3.02958401,  5.09396935,  6.13144793,  1.54270285,  2.40193909],\n",
       "        [ 3.02958401,  5.09396935,  6.13144793,  1.54270285,  2.40193909],\n",
       "        [ 3.02958401,  5.09396935,  6.13144793,  1.54270285,  2.40193909],\n",
       "        [-4.3085486 ,  3.2533671 ,  2.47289738, -0.41767918,  4.00221919],\n",
       "        [-4.3085486 ,  3.2533671 ,  2.47289738, -0.41767918,  4.00221919],\n",
       "        [ 4.52823048, -3.60252791,  5.98436897,  2.53054528,  4.49256321],\n",
       "        [ 3.02958401,  5.09396935,  6.13144793,  1.54270285,  2.40193909],\n",
       "        [ 4.52823048, -3.60252791,  5.98436897,  2.53054528,  4.49256321],\n",
       "        [ 4.52823048, -3.60252791,  5.98436897,  2.53054528,  4.49256321],\n",
       "        [ 5.82261906, -1.0273916 , -6.22706161,  4.08128001,  5.33196695],\n",
       "        [ 4.52823048, -3.60252791,  5.98436897,  2.53054528,  4.49256321],\n",
       "        [ 5.82261906, -1.0273916 , -6.22706161,  4.08128001,  5.33196695],\n",
       "        [-4.3085486 ,  3.2533671 ,  2.47289738, -0.41767918,  4.00221919],\n",
       "        [ 4.52823048, -3.60252791,  5.98436897,  2.53054528,  4.49256321],\n",
       "        [-4.3085486 ,  3.2533671 ,  2.47289738, -0.41767918,  4.00221919],\n",
       "        [ 4.52823048, -3.60252791,  5.98436897,  2.53054528,  4.49256321],\n",
       "        [ 5.82261906, -1.0273916 , -6.22706161,  4.08128001,  5.33196695],\n",
       "        [ 4.52823048, -3.60252791,  5.98436897,  2.53054528,  4.49256321],\n",
       "        [ 4.52823048, -3.60252791,  5.98436897,  2.53054528,  4.49256321],\n",
       "        [ 3.02958401,  5.09396935,  6.13144793,  1.54270285,  2.40193909],\n",
       "        [-4.3085486 ,  3.2533671 ,  2.47289738, -0.41767918,  4.00221919],\n",
       "        [ 3.02958401,  5.09396935,  6.13144793,  1.54270285,  2.40193909],\n",
       "        [-4.3085486 ,  3.2533671 ,  2.47289738, -0.41767918,  4.00221919],\n",
       "        [ 4.52823048, -3.60252791,  5.98436897,  2.53054528,  4.49256321],\n",
       "        [ 5.82261906, -1.0273916 , -6.22706161,  4.08128001,  5.33196695],\n",
       "        [ 4.52823048, -3.60252791,  5.98436897,  2.53054528,  4.49256321],\n",
       "        [ 4.52823048, -3.60252791,  5.98436897,  2.53054528,  4.49256321],\n",
       "        [ 3.02958401,  5.09396935,  6.13144793,  1.54270285,  2.40193909],\n",
       "        [-4.3085486 ,  3.2533671 ,  2.47289738, -0.41767918,  4.00221919],\n",
       "        [-4.3085486 ,  3.2533671 ,  2.47289738, -0.41767918,  4.00221919],\n",
       "        [ 3.02958401,  5.09396935,  6.13144793,  1.54270285,  2.40193909],\n",
       "        [ 5.82261906, -1.0273916 , -6.22706161,  4.08128001,  5.33196695],\n",
       "        [ 5.82261906, -1.0273916 , -6.22706161,  4.08128001,  5.33196695],\n",
       "        [ 5.82261906, -1.0273916 , -6.22706161,  4.08128001,  5.33196695],\n",
       "        [ 3.02958401,  5.09396935,  6.13144793,  1.54270285,  2.40193909],\n",
       "        [ 4.52823048, -3.60252791,  5.98436897,  2.53054528,  4.49256321],\n",
       "        [ 4.52823048, -3.60252791,  5.98436897,  2.53054528,  4.49256321],\n",
       "        [ 3.02958401,  5.09396935,  6.13144793,  1.54270285,  2.40193909],\n",
       "        [-4.3085486 ,  3.2533671 ,  2.47289738, -0.41767918,  4.00221919],\n",
       "        [-4.3085486 ,  3.2533671 ,  2.47289738, -0.41767918,  4.00221919],\n",
       "        [-4.3085486 ,  3.2533671 ,  2.47289738, -0.41767918,  4.00221919],\n",
       "        [ 5.82261906, -1.0273916 , -6.22706161,  4.08128001,  5.33196695],\n",
       "        [ 3.02958401,  5.09396935,  6.13144793,  1.54270285,  2.40193909],\n",
       "        [-4.3085486 ,  3.2533671 ,  2.47289738, -0.41767918,  4.00221919],\n",
       "        [-4.3085486 ,  3.2533671 ,  2.47289738, -0.41767918,  4.00221919],\n",
       "        [-4.3085486 ,  3.2533671 ,  2.47289738, -0.41767918,  4.00221919],\n",
       "        [-4.3085486 ,  3.2533671 ,  2.47289738, -0.41767918,  4.00221919],\n",
       "        [ 4.52823048, -3.60252791,  5.98436897,  2.53054528,  4.49256321],\n",
       "        [ 3.02958401,  5.09396935,  6.13144793,  1.54270285,  2.40193909],\n",
       "        [ 3.02958401,  5.09396935,  6.13144793,  1.54270285,  2.40193909],\n",
       "        [ 5.82261906, -1.0273916 , -6.22706161,  4.08128001,  5.33196695],\n",
       "        [ 5.82261906, -1.0273916 , -6.22706161,  4.08128001,  5.33196695],\n",
       "        [ 3.02958401,  5.09396935,  6.13144793,  1.54270285,  2.40193909],\n",
       "        [ 5.82261906, -1.0273916 , -6.22706161,  4.08128001,  5.33196695],\n",
       "        [ 4.52823048, -3.60252791,  5.98436897,  2.53054528,  4.49256321],\n",
       "        [ 3.02958401,  5.09396935,  6.13144793,  1.54270285,  2.40193909]]),\n",
       " array([12, 12,  5, 10,  5, 12,  5, 10,  5, 10,  3,  5, 12,  3,  5,  5,  3,\n",
       "         3,  3, 12,  5,  5,  3, 12,  3,  5,  3, 10,  5,  5,  3, 10,  5,  3,\n",
       "         3,  5, 10,  5, 10,  3, 12,  5, 10, 10, 10, 10, 10,  5,  5, 12, 10,\n",
       "        12, 12,  3, 12,  3,  5, 12,  5, 12,  3, 12, 12, 10,  5, 10,  5, 12,\n",
       "         3, 12, 12, 10,  5,  5, 10,  3,  3,  3, 10, 12, 12, 10,  5,  5,  5,\n",
       "         3, 10,  5,  5,  5,  5, 12, 10, 10,  3,  3, 10,  3, 12, 10]))"
      ]
     },
     "execution_count": 51,
     "metadata": {},
     "output_type": "execute_result"
    }
   ],
   "source": [
    "#NO\n",
    "samples = 100\n",
    "indices = np.random.randint(len(input_states),size=samples)\n",
    "X_train = input_states[indices]\n",
    "y_train = output_states[indices]\n",
    "X_train, y_train"
   ]
  },
  {
   "cell_type": "code",
   "execution_count": 149,
   "id": "d59505ee",
   "metadata": {},
   "outputs": [],
   "source": [
    "circuit_classifier.initial_point"
   ]
  },
  {
   "cell_type": "code",
   "execution_count": 59,
   "id": "be0b3baf",
   "metadata": {},
   "outputs": [
    {
     "data": {
      "image/png": "[encoded data removed]",
      "text/plain": [
       "<Figure size 864x432 with 1 Axes>"
      ]
     },
     "metadata": {
      "needs_background": "light"
     },
     "output_type": "display_data"
    }
   ],
   "source": [
    "#NO\n",
    "from qiskit.utils import QuantumInstance, algorithm_globals\n",
    "num_inputs = 5\n",
    "num_samples = 20\n",
    "X = 2 * algorithm_globals.random.random([num_samples, num_inputs]) - 1\n",
    "y01 = 1 * (np.sum(X, axis=1) >= 0)  # in { 0,  1}\n",
    "y = 2 * y01 - 1  # in {-1, +1}\n",
    "y_one_hot = np.zeros((num_samples, 2))\n",
    "for i in range(num_samples):\n",
    "    y_one_hot[i, y01[i]] = 1\n",
    "\n",
    "for x, y_target in zip(X, y):\n",
    "    if y_target == 1:\n",
    "        plt.plot(x[0], x[1], \"bo\")\n",
    "    else:\n",
    "        plt.plot(x[0], x[1], \"go\")\n",
    "plt.plot([-1, 1], [1, -1], \"--\", color=\"black\")\n",
    "plt.show()"
   ]
  },
  {
   "cell_type": "code",
   "execution_count": 68,
   "id": "e0ef8390",
   "metadata": {},
   "outputs": [
    {
     "data": {
      "text/plain": [
       "(array([[-0.91825134, -0.97778824,  0.92031984,  0.56669704, -0.50153112],\n",
       "        [ 0.5650698 ,  0.53058478, -0.50895344,  0.86372254, -0.12816475],\n",
       "        [-0.65955522, -0.46653366, -0.16987955,  0.79122453,  0.14686602],\n",
       "        [ 0.0957642 ,  0.90458189, -0.47249784, -0.45372264, -0.63136044],\n",
       "        [-0.40262475, -0.18323331,  0.05275313,  0.92559746, -0.22377658],\n",
       "        [-0.93796926, -0.18274025, -0.26289288,  0.6425914 ,  0.51303989],\n",
       "        [-0.7799155 , -0.57924508,  0.60052219, -0.19222059, -0.11510341],\n",
       "        [-0.80553595, -0.57802909,  0.56821989,  0.25570987, -0.13505703],\n",
       "        [ 0.61699293, -0.7078184 ,  0.74861703, -0.95678382,  0.40873524],\n",
       "        [-0.05268403, -0.60020558,  0.60639931,  0.47197466, -0.61264474],\n",
       "        [-0.7492096 ,  0.26516338,  0.04954257,  0.84409566, -0.81605032],\n",
       "        [-0.62923626, -0.52249944,  0.33644074,  0.8169128 ,  0.54926389],\n",
       "        [-0.56887705, -0.06426475, -0.68846342,  0.22217274, -0.49924599],\n",
       "        [-0.42173556,  0.08659694,  0.35647629,  0.15557565,  0.17700643],\n",
       "        [-0.11820037,  0.83893199,  0.12342287, -0.85419809,  0.09786588],\n",
       "        [ 0.1964969 , -0.45040342, -0.15883265, -0.53634815,  0.10960065],\n",
       "        [-0.88601119,  0.21277947,  0.93816044,  0.79548814, -0.8955304 ],\n",
       "        [-0.71544799,  0.24409663, -0.83276617, -0.65240837, -0.97751951],\n",
       "        [ 0.64770269, -0.45620123, -0.01616018, -0.08397657,  0.81080757],\n",
       "        [-0.06450123, -0.60744374,  0.56688119, -0.61321436,  0.54586959]]),\n",
       " array([-1,  1, -1, -1,  1, -1, -1, -1,  1, -1, -1,  1, -1,  1,  1, -1,  1,\n",
       "        -1,  1, -1]))"
      ]
     },
     "execution_count": 68,
     "metadata": {},
     "output_type": "execute_result"
    }
   ],
   "source": [
    "#NO\n",
    "X, y"
   ]
  },
  {
   "cell_type": "code",
   "execution_count": 72,
   "id": "6efced01",
   "metadata": {},
   "outputs": [
    {
     "data": {
      "text/plain": [
       "(array([[2.78926e+03, 1.00000e+03, 1.00000e+01, 2.00000e+01],\n",
       "        [4.04001e+03, 1.00000e+06, 1.00000e+00, 1.00000e+00],\n",
       "        [2.93120e+03, 1.00000e+04, 1.00000e+04, 4.00000e+01],\n",
       "        ...,\n",
       "        [4.18281e+03, 1.00000e+00, 1.00000e+00, 6.50000e+01],\n",
       "        [3.11375e+03, 1.00000e+04, 1.00000e+02, 1.00000e+00],\n",
       "        [4.56757e+03, 1.00000e+04, 1.00000e+05, 9.00000e+01]]),\n",
       " array([0, 1, 1, 1, 0, 0, 1, 0, 1, 0, 1, 0, 0, 0, 0, 0, 1, 0, 0, 0, 1, 1,\n",
       "        1, 1, 0, 1, 0, 0, 1, 0, 0, 0, 1, 1, 0, 0, 0, 1, 0, 1, 1, 0, 1, 0,\n",
       "        0, 0, 1, 0, 1, 1, 0, 1, 0, 1, 0, 0, 1, 0, 0, 1, 0, 1, 1, 1, 0, 0,\n",
       "        0, 1, 0, 1, 0, 1, 0, 0, 1, 0, 0, 1, 1, 1, 1, 0, 1, 1, 0, 0, 0, 0,\n",
       "        0, 1, 1, 1, 0, 0, 0, 0, 1, 0, 1, 1, 0, 1, 1, 1, 1, 1, 0, 1, 1, 0,\n",
       "        1, 0, 0, 1, 1, 0, 0, 0, 0, 0, 0, 1, 0, 0, 1, 1, 0, 1, 0, 0, 0, 1,\n",
       "        0, 0, 1, 1, 0, 1, 0, 1, 1, 0, 1, 0, 0, 1, 0, 1, 1, 1, 1, 0, 1, 1,\n",
       "        0, 1, 0, 0, 1, 1, 1, 0, 1, 0, 1, 1, 0, 0, 0, 0, 0, 1, 1, 1, 0, 1,\n",
       "        0, 0, 1, 0, 1, 1, 1, 0, 1, 0, 0, 1, 1, 1, 1, 0, 0, 1, 1, 0, 1, 0,\n",
       "        0, 0, 1, 0, 0, 1, 1, 1, 1, 0, 0, 0, 0, 0, 0, 0, 0, 1, 0, 1, 1, 0,\n",
       "        0, 1, 0, 1, 0, 0, 1, 0, 1, 0, 0, 0, 1, 0, 1, 0, 1, 1, 0, 0, 0, 0,\n",
       "        0, 0, 0, 0, 0, 1, 0, 1, 0, 1, 0, 0, 1, 0, 1, 1, 1, 1, 1, 1, 0, 0,\n",
       "        1, 1, 0, 0, 0, 0, 1, 0, 1, 0, 1, 1, 1, 1, 1, 0, 1, 1, 0, 1, 0, 0,\n",
       "        0, 1, 1, 0, 1, 1, 0, 1, 0, 1, 1, 0, 1, 1]))"
      ]
     },
     "execution_count": 72,
     "metadata": {},
     "output_type": "execute_result"
    }
   ],
   "source": [
    "X_train.to_numpy(), np.array(y_train.to_numpy().flatten(),dtype=int)"
   ]
  },
  {
   "cell_type": "code",
   "execution_count": 43,
   "id": "103119ae",
   "metadata": {},
   "outputs": [
    {
     "data": {
      "text/plain": [
       "(array([[2.78926e+03, 1.00000e+03, 1.00000e+01, 2.00000e+01],\n",
       "        [4.04001e+03, 1.00000e+06, 1.00000e+00, 1.00000e+00],\n",
       "        [2.93120e+03, 1.00000e+04, 1.00000e+04, 4.00000e+01],\n",
       "        ...,\n",
       "        [4.18281e+03, 1.00000e+00, 1.00000e+00, 6.50000e+01],\n",
       "        [3.11375e+03, 1.00000e+04, 1.00000e+02, 1.00000e+00],\n",
       "        [4.56757e+03, 1.00000e+04, 1.00000e+05, 9.00000e+01]]),\n",
       " array([[0.],\n",
       "        [1.],\n",
       "        [1.],\n",
       "        [1.],\n",
       "        [0.],\n",
       "        [0.],\n",
       "        [1.],\n",
       "        [0.],\n",
       "        [1.],\n",
       "        [0.],\n",
       "        [1.],\n",
       "        [0.],\n",
       "        [0.],\n",
       "        [0.],\n",
       "        [0.],\n",
       "        [0.],\n",
       "        [1.],\n",
       "        [0.],\n",
       "        [0.],\n",
       "        [0.],\n",
       "        [1.],\n",
       "        [1.],\n",
       "        [1.],\n",
       "        [1.],\n",
       "        [0.],\n",
       "        [1.],\n",
       "        [0.],\n",
       "        [0.],\n",
       "        [1.],\n",
       "        [0.],\n",
       "        [0.],\n",
       "        [0.],\n",
       "        [1.],\n",
       "        [1.],\n",
       "        [0.],\n",
       "        [0.],\n",
       "        [0.],\n",
       "        [1.],\n",
       "        [0.],\n",
       "        [1.],\n",
       "        [1.],\n",
       "        [0.],\n",
       "        [1.],\n",
       "        [0.],\n",
       "        [0.],\n",
       "        [0.],\n",
       "        [1.],\n",
       "        [0.],\n",
       "        [1.],\n",
       "        [1.],\n",
       "        [0.],\n",
       "        [1.],\n",
       "        [0.],\n",
       "        [1.],\n",
       "        [0.],\n",
       "        [0.],\n",
       "        [1.],\n",
       "        [0.],\n",
       "        [0.],\n",
       "        [1.],\n",
       "        [0.],\n",
       "        [1.],\n",
       "        [1.],\n",
       "        [1.],\n",
       "        [0.],\n",
       "        [0.],\n",
       "        [0.],\n",
       "        [1.],\n",
       "        [0.],\n",
       "        [1.],\n",
       "        [0.],\n",
       "        [1.],\n",
       "        [0.],\n",
       "        [0.],\n",
       "        [1.],\n",
       "        [0.],\n",
       "        [0.],\n",
       "        [1.],\n",
       "        [1.],\n",
       "        [1.],\n",
       "        [1.],\n",
       "        [0.],\n",
       "        [1.],\n",
       "        [1.],\n",
       "        [0.],\n",
       "        [0.],\n",
       "        [0.],\n",
       "        [0.],\n",
       "        [0.],\n",
       "        [1.],\n",
       "        [1.],\n",
       "        [1.],\n",
       "        [0.],\n",
       "        [0.],\n",
       "        [0.],\n",
       "        [0.],\n",
       "        [1.],\n",
       "        [0.],\n",
       "        [1.],\n",
       "        [1.],\n",
       "        [0.],\n",
       "        [1.],\n",
       "        [1.],\n",
       "        [1.],\n",
       "        [1.],\n",
       "        [1.],\n",
       "        [0.],\n",
       "        [1.],\n",
       "        [1.],\n",
       "        [0.],\n",
       "        [1.],\n",
       "        [0.],\n",
       "        [0.],\n",
       "        [1.],\n",
       "        [1.],\n",
       "        [0.],\n",
       "        [0.],\n",
       "        [0.],\n",
       "        [0.],\n",
       "        [0.],\n",
       "        [0.],\n",
       "        [1.],\n",
       "        [0.],\n",
       "        [0.],\n",
       "        [1.],\n",
       "        [1.],\n",
       "        [0.],\n",
       "        [1.],\n",
       "        [0.],\n",
       "        [0.],\n",
       "        [0.],\n",
       "        [1.],\n",
       "        [0.],\n",
       "        [0.],\n",
       "        [1.],\n",
       "        [1.],\n",
       "        [0.],\n",
       "        [1.],\n",
       "        [0.],\n",
       "        [1.],\n",
       "        [1.],\n",
       "        [0.],\n",
       "        [1.],\n",
       "        [0.],\n",
       "        [0.],\n",
       "        [1.],\n",
       "        [0.],\n",
       "        [1.],\n",
       "        [1.],\n",
       "        [1.],\n",
       "        [1.],\n",
       "        [0.],\n",
       "        [1.],\n",
       "        [1.],\n",
       "        [0.],\n",
       "        [1.],\n",
       "        [0.],\n",
       "        [0.],\n",
       "        [1.],\n",
       "        [1.],\n",
       "        [1.],\n",
       "        [0.],\n",
       "        [1.],\n",
       "        [0.],\n",
       "        [1.],\n",
       "        [1.],\n",
       "        [0.],\n",
       "        [0.],\n",
       "        [0.],\n",
       "        [0.],\n",
       "        [0.],\n",
       "        [1.],\n",
       "        [1.],\n",
       "        [1.],\n",
       "        [0.],\n",
       "        [1.],\n",
       "        [0.],\n",
       "        [0.],\n",
       "        [1.],\n",
       "        [0.],\n",
       "        [1.],\n",
       "        [1.],\n",
       "        [1.],\n",
       "        [0.],\n",
       "        [1.],\n",
       "        [0.],\n",
       "        [0.],\n",
       "        [1.],\n",
       "        [1.],\n",
       "        [1.],\n",
       "        [1.],\n",
       "        [0.],\n",
       "        [0.],\n",
       "        [1.],\n",
       "        [1.],\n",
       "        [0.],\n",
       "        [1.],\n",
       "        [0.],\n",
       "        [0.],\n",
       "        [0.],\n",
       "        [1.],\n",
       "        [0.],\n",
       "        [0.],\n",
       "        [1.],\n",
       "        [1.],\n",
       "        [1.],\n",
       "        [1.],\n",
       "        [0.],\n",
       "        [0.],\n",
       "        [0.],\n",
       "        [0.],\n",
       "        [0.],\n",
       "        [0.],\n",
       "        [0.],\n",
       "        [0.],\n",
       "        [1.],\n",
       "        [0.],\n",
       "        [1.],\n",
       "        [1.],\n",
       "        [0.],\n",
       "        [0.],\n",
       "        [1.],\n",
       "        [0.],\n",
       "        [1.],\n",
       "        [0.],\n",
       "        [0.],\n",
       "        [1.],\n",
       "        [0.],\n",
       "        [1.],\n",
       "        [0.],\n",
       "        [0.],\n",
       "        [0.],\n",
       "        [1.],\n",
       "        [0.],\n",
       "        [1.],\n",
       "        [0.],\n",
       "        [1.],\n",
       "        [1.],\n",
       "        [0.],\n",
       "        [0.],\n",
       "        [0.],\n",
       "        [0.],\n",
       "        [0.],\n",
       "        [0.],\n",
       "        [0.],\n",
       "        [0.],\n",
       "        [0.],\n",
       "        [1.],\n",
       "        [0.],\n",
       "        [1.],\n",
       "        [0.],\n",
       "        [1.],\n",
       "        [0.],\n",
       "        [0.],\n",
       "        [1.],\n",
       "        [0.],\n",
       "        [1.],\n",
       "        [1.],\n",
       "        [1.],\n",
       "        [1.],\n",
       "        [1.],\n",
       "        [1.],\n",
       "        [0.],\n",
       "        [0.],\n",
       "        [1.],\n",
       "        [1.],\n",
       "        [0.],\n",
       "        [0.],\n",
       "        [0.],\n",
       "        [0.],\n",
       "        [1.],\n",
       "        [0.],\n",
       "        [1.],\n",
       "        [0.],\n",
       "        [1.],\n",
       "        [1.],\n",
       "        [1.],\n",
       "        [1.],\n",
       "        [1.],\n",
       "        [0.],\n",
       "        [1.],\n",
       "        [1.],\n",
       "        [0.],\n",
       "        [1.],\n",
       "        [0.],\n",
       "        [0.],\n",
       "        [0.],\n",
       "        [1.],\n",
       "        [1.],\n",
       "        [0.],\n",
       "        [1.],\n",
       "        [1.],\n",
       "        [0.],\n",
       "        [1.],\n",
       "        [0.],\n",
       "        [1.],\n",
       "        [1.],\n",
       "        [0.],\n",
       "        [1.],\n",
       "        [1.]]))"
      ]
     },
     "execution_count": 43,
     "metadata": {},
     "output_type": "execute_result"
    }
   ],
   "source": [
    "X.to_numpy(), y.to_numpy()"
   ]
  },
  {
   "cell_type": "code",
   "execution_count": 47,
   "id": "938885c0",
   "metadata": {},
   "outputs": [
    {
     "data": {
      "text/plain": [
       "0.0"
      ]
     },
     "execution_count": 47,
     "metadata": {},
     "output_type": "execute_result"
    }
   ],
   "source": [
    "y.to_numpy().flatten()"
   ]
  },
  {
   "cell_type": "code",
   "execution_count": 100,
   "id": "7cf09aa7",
   "metadata": {},
   "outputs": [
    {
     "data": {
      "text/plain": [
       "array([[0.04980469, 0.0234375 , 0.25390625, 0.01757812, 0.04101562,\n",
       "        0.03515625, 0.06347656, 0.05273438, 0.18359375, 0.05761719,\n",
       "        0.03515625, 0.015625  , 0.00195312, 0.08203125, 0.02539062,\n",
       "        0.06152344]])"
      ]
     },
     "execution_count": 100,
     "metadata": {},
     "output_type": "execute_result"
    }
   ],
   "source": [
    "qnn.forward(X_train[0], np.array([ 1.84994387,  2.41082756, -0.47905525,  0.22448189,  0.49145462,  1.89795387, \\\n",
    " -0.28665164,  0.6543817,   1.54089533,  0.90425886, -0.40531396,  1.22936551, \\\n",
    "  0.4177721,   0.04559946,  0.05358508,  1.10633941,  1.07253266,  1.1173337, \\\n",
    " -0.07643446,  0.79647236]))"
   ]
  },
  {
   "cell_type": "code",
   "execution_count": null,
   "id": "e041ac52",
   "metadata": {},
   "outputs": [],
   "source": []
  }
 ],
 "metadata": {
  "kernelspec": {
   "display_name": "quantum2021",
   "language": "python",
   "name": "quantum2021"
  },
  "language_info": {
   "codemirror_mode": {
    "name": "ipython",
    "version": 3
   },
   "file_extension": ".py",
   "mimetype": "text/x-python",
   "name": "python",
   "nbconvert_exporter": "python",
   "pygments_lexer": "ipython3",
   "version": "3.9.7"
  }
 },
 "nbformat": 4,
 "nbformat_minor": 5
}
